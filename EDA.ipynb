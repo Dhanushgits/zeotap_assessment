{
  "nbformat": 4,
  "nbformat_minor": 0,
  "metadata": {
    "colab": {
      "provenance": []
    },
    "kernelspec": {
      "name": "python3",
      "display_name": "Python 3"
    },
    "language_info": {
      "name": "python"
    }
  },
  "cells": [
    {
      "cell_type": "code",
      "execution_count": null,
      "metadata": {
        "id": "UCssLjOmMpoq"
      },
      "outputs": [],
      "source": [
        "import pandas as pd\n",
        "import matplotlib.pyplot as plt\n",
        "import seaborn as sns\n",
        "\n",
        "customers = pd.read_csv(\"Customers.csv\")\n",
        "products = pd.read_csv(\"Products.csv\")\n",
        "transactions = pd.read_csv(\"Transactions.csv\")\n",
        "\n",
        "print(\"Customers Dataset\")\n",
        "print(customers.head())\n",
        "print(customers.info())\n",
        "print(customers.describe(include='all'))\n",
        "\n",
        "print(\"\\nProducts Dataset\")\n",
        "print(products.head())\n",
        "print(products.info())\n",
        "print(products.describe(include='all'))\n",
        "\n",
        "print(\"\\nTransactions Dataset\")\n",
        "print(transactions.head())\n",
        "print(transactions.info())\n",
        "print(transactions.describe(include='all'))\n",
        "\n",
        "merged_data = transactions.merge(customers, on=\"CustomerID\", how=\"left\").merge(products, on=\"ProductID\", how=\"left\")\n",
        "\n",
        "print(\"\\nMerged Dataset\")\n",
        "print(merged_data.head())\n",
        "\n",
        "plt.figure(figsize=(10, 6))\n",
        "merged_data['TransactionDate'] = pd.to_datetime(merged_data['TransactionDate'])\n",
        "merged_data.groupby(merged_data['TransactionDate'].dt.to_period(\"M\")).size().plot(kind='bar', color='skyblue')\n",
        "plt.title(\"Transactions Over Time\")\n",
        "plt.xlabel(\"Month\")\n",
        "plt.ylabel(\"Number of Transactions\")\n",
        "plt.show()\n",
        "\n",
        "category_revenue = merged_data.groupby('Category')['TotalValue'].sum().sort_values(ascending=False)\n",
        "plt.figure(figsize=(10, 6))\n",
        "category_revenue.plot(kind='bar', color='orange')\n",
        "plt.title(\"Revenue by Product Category\")\n",
        "plt.xlabel(\"Category\")\n",
        "plt.ylabel(\"Total Revenue\")\n",
        "plt.show()\n",
        "\n",
        "plt.figure(figsize=(10, 6))\n",
        "region_distribution = customers['Region'].value_counts()\n",
        "region_distribution.plot(kind='pie', autopct=\"%1.1f%%\", startangle=90, colors=sns.color_palette(\"pastel\"))\n",
        "plt.title(\"Customer Regions Distribution\")\n",
        "plt.ylabel(\"\")\n",
        "plt.show()\n",
        "\n",
        "top_customers = merged_data.groupby('CustomerName')['TotalValue'].sum().sort_values(ascending=False).head(10)\n",
        "plt.figure(figsize=(10, 6))\n",
        "top_customers.plot(kind='bar', color='green')\n",
        "plt.title(\"Top 10 Customers by Spending\")\n",
        "plt.xlabel(\"Customer Name\")\n",
        "plt.ylabel(\"Total Spending\")\n",
        "plt.show()\n",
        "\n",
        "plt.figure(figsize=(10, 6))\n",
        "correlation_matrix = merged_data[['Price', 'Quantity', 'TotalValue']].corr()\n",
        "sns.heatmap(correlation_matrix, annot=True, cmap=\"coolwarm\")\n",
        "plt.title(\"Correlation Heatmap\")\n",
        "plt.show()"
      ]
    }
  ]
}