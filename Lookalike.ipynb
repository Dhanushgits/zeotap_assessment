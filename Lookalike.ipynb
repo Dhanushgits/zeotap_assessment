{
  "nbformat": 4,
  "nbformat_minor": 0,
  "metadata": {
    "colab": {
      "provenance": []
    },
    "kernelspec": {
      "name": "python3",
      "display_name": "Python 3"
    },
    "language_info": {
      "name": "python"
    }
  },
  "cells": [
    {
      "cell_type": "code",
      "execution_count": null,
      "metadata": {
        "id": "UCssLjOmMpoq"
      },
      "outputs": [],
      "source": [
        "import pandas as pd\n",
        "import numpy as np\n",
        "from sklearn.metrics.pairwise import cosine_similarity\n",
        "\n",
        "customers = pd.read_csv(\"Customers.csv\")\n",
        "products = pd.read_csv(\"Products.csv\")\n",
        "transactions = pd.read_csv(\"Transactions.csv\")\n",
        "\n",
        "merged_data = transactions.merge(customers, on=\"CustomerID\", how=\"left\").merge(products, on=\"ProductID\", how=\"left\")\n",
        "\n",
        "customer_features = merged_data.groupby('CustomerID').agg({\n",
        "    'Price': 'mean',\n",
        "    'Quantity': 'sum',\n",
        "    'TotalValue': 'sum'\n",
        "}).fillna(0)\n",
        "\n",
        "customer_features = (customer_features - customer_features.min()) / (customer_features.max() - customer_features.min())\n",
        "similarity_matrix = cosine_similarity(customer_features)\n",
        "similarity_df = pd.DataFrame(similarity_matrix, index=customer_features.index, columns=customer_features.index)\n",
        "\n",
        "lookalike_results = {}\n",
        "for customer_id in customer_features.index[:20]:\n",
        "    similar_customers = similarity_df[customer_id].sort_values(ascending=False).iloc[1:4]\n",
        "    lookalike_results[customer_id] = list(zip(similar_customers.index, similar_customers.values))\n",
        "\n",
        "lookalike_df = pd.DataFrame({\n",
        "    \"CustomerID\": lookalike_results.keys(),\n",
        "    \"Lookalikes\": [str(val) for val in lookalike_results.values()]\n",
        "})\n",
        "\n",
        "lookalike_df.to_csv(\"Lookalike.csv\", index=False)\n",
        "\n",
        "print(\"Lookalike recommendations saved to Lookalike.csv\")"
      ]
    }
  ]
}